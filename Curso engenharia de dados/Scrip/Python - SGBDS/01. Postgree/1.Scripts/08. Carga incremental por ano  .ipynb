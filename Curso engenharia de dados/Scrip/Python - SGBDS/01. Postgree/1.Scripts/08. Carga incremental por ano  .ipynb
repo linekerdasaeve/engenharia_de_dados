{
 "cells": [
  {
   "cell_type": "code",
   "execution_count": 3,
   "metadata": {},
   "outputs": [
    {
     "data": {
      "text/html": [
       "<div>\n",
       "<style scoped>\n",
       "    .dataframe tbody tr th:only-of-type {\n",
       "        vertical-align: middle;\n",
       "    }\n",
       "\n",
       "    .dataframe tbody tr th {\n",
       "        vertical-align: top;\n",
       "    }\n",
       "\n",
       "    .dataframe thead th {\n",
       "        text-align: right;\n",
       "    }\n",
       "</style>\n",
       "<table border=\"1\" class=\"dataframe\">\n",
       "  <thead>\n",
       "    <tr style=\"text-align: right;\">\n",
       "      <th></th>\n",
       "      <th>Numero_da_Ocorrencia</th>\n",
       "      <th>Classificacao_da_Ocorrencia</th>\n",
       "      <th>Data_da_Ocorrencia</th>\n",
       "      <th>Municipio</th>\n",
       "      <th>UF</th>\n",
       "      <th>Regiao</th>\n",
       "      <th>Nome_do_Fabricante</th>\n",
       "      <th>Modelo</th>\n",
       "    </tr>\n",
       "  </thead>\n",
       "  <tbody>\n",
       "    <tr>\n",
       "      <th>0</th>\n",
       "      <td>7762</td>\n",
       "      <td>Incidente</td>\n",
       "      <td>2018-03-21</td>\n",
       "      <td>SÃO PAULO</td>\n",
       "      <td>SP</td>\n",
       "      <td>Sudeste</td>\n",
       "      <td>AGUSTA</td>\n",
       "      <td>AW109SP</td>\n",
       "    </tr>\n",
       "    <tr>\n",
       "      <th>1</th>\n",
       "      <td>7759</td>\n",
       "      <td>Acidente</td>\n",
       "      <td>2018-03-14</td>\n",
       "      <td>MONTES CLAROS</td>\n",
       "      <td>MG</td>\n",
       "      <td>Sudeste</td>\n",
       "      <td>CESSNA AIRCRAFT</td>\n",
       "      <td>A152</td>\n",
       "    </tr>\n",
       "    <tr>\n",
       "      <th>2</th>\n",
       "      <td>7758</td>\n",
       "      <td>Acidente</td>\n",
       "      <td>2018-01-26</td>\n",
       "      <td>INACIOLÂNDIA</td>\n",
       "      <td>GO</td>\n",
       "      <td>Centro-Oeste</td>\n",
       "      <td>CESSNA AIRCRAFT</td>\n",
       "      <td>T188C</td>\n",
       "    </tr>\n",
       "  </tbody>\n",
       "</table>\n",
       "</div>"
      ],
      "text/plain": [
       "   Numero_da_Ocorrencia Classificacao_da_Ocorrencia Data_da_Ocorrencia  \\\n",
       "0                  7762                   Incidente         2018-03-21   \n",
       "1                  7759                    Acidente         2018-03-14   \n",
       "2                  7758                    Acidente         2018-01-26   \n",
       "\n",
       "       Municipio  UF        Regiao Nome_do_Fabricante   Modelo  \n",
       "0      SÃO PAULO  SP       Sudeste             AGUSTA  AW109SP  \n",
       "1  MONTES CLAROS  MG       Sudeste    CESSNA AIRCRAFT     A152  \n",
       "2   INACIOLÂNDIA  GO  Centro-Oeste    CESSNA AIRCRAFT    T188C  "
      ]
     },
     "execution_count": 3,
     "metadata": {},
     "output_type": "execute_result"
    }
   ],
   "source": [
    "import pandas as pd\n",
    "pd.set_option('display.max_columns', None)\n",
    "caminho_do_arquivo = r\"C:\\Users\\linek\\OneDrive\\Área de Trabalho\\Curso\\Material\\01. Postgree\\Origem de dados\\V_OCORRENCIA_AMPLA.json\"\n",
    "df = pd.read_json(caminho_do_arquivo, encoding='utf-8-sig')\n",
    "\n",
    "colunas = [\"Numero_da_Ocorrencia\", \"Classificacao_da_Ocorrência\", \"Data_da_Ocorrencia\",\"Municipio\",\"UF\",\"Regiao\",\"Nome_do_Fabricante\",\"Modelo\"]\n",
    "df = df[colunas]\n",
    "df.rename( columns={  'Classificacao_da_Ocorrência' : 'Classificacao_da_Ocorrencia'  } ,inplace=True )\n",
    "df.head(3)"
   ]
  },
  {
   "cell_type": "code",
   "execution_count": 6,
   "metadata": {},
   "outputs": [
    {
     "data": {
      "text/plain": [
       "Numero_da_Ocorrencia                    int64\n",
       "Classificacao_da_Ocorrencia            object\n",
       "Data_da_Ocorrencia             datetime64[ns]\n",
       "Municipio                              object\n",
       "UF                                     object\n",
       "Regiao                                 object\n",
       "Nome_do_Fabricante                     object\n",
       "Modelo                                 object\n",
       "dtype: object"
      ]
     },
     "execution_count": 6,
     "metadata": {},
     "output_type": "execute_result"
    }
   ],
   "source": [
    "df.dtypes"
   ]
  },
  {
   "cell_type": "code",
   "execution_count": 5,
   "metadata": {},
   "outputs": [],
   "source": [
    "df['Data_da_Ocorrencia'] = pd.to_datetime(df['Data_da_Ocorrencia'])"
   ]
  },
  {
   "cell_type": "markdown",
   "metadata": {},
   "source": [
    "https://docs.python.org/pt-br/3.10/library/datetime.html"
   ]
  },
  {
   "cell_type": "code",
   "execution_count": 7,
   "metadata": {},
   "outputs": [
    {
     "name": "stdout",
     "output_type": "stream",
     "text": [
      "2024\n"
     ]
    }
   ],
   "source": [
    "from datetime import datetime\n",
    "\n",
    "ano_atual = datetime.now().year\n",
    "print(ano_atual)\n"
   ]
  },
  {
   "cell_type": "code",
   "execution_count": 8,
   "metadata": {},
   "outputs": [
    {
     "data": {
      "text/html": [
       "<div>\n",
       "<style scoped>\n",
       "    .dataframe tbody tr th:only-of-type {\n",
       "        vertical-align: middle;\n",
       "    }\n",
       "\n",
       "    .dataframe tbody tr th {\n",
       "        vertical-align: top;\n",
       "    }\n",
       "\n",
       "    .dataframe thead th {\n",
       "        text-align: right;\n",
       "    }\n",
       "</style>\n",
       "<table border=\"1\" class=\"dataframe\">\n",
       "  <thead>\n",
       "    <tr style=\"text-align: right;\">\n",
       "      <th></th>\n",
       "      <th>Numero_da_Ocorrencia</th>\n",
       "      <th>Classificacao_da_Ocorrencia</th>\n",
       "      <th>Data_da_Ocorrencia</th>\n",
       "      <th>Municipio</th>\n",
       "      <th>UF</th>\n",
       "      <th>Regiao</th>\n",
       "      <th>Nome_do_Fabricante</th>\n",
       "      <th>Modelo</th>\n",
       "    </tr>\n",
       "  </thead>\n",
       "  <tbody>\n",
       "    <tr>\n",
       "      <th>5182</th>\n",
       "      <td>41518</td>\n",
       "      <td>Incidente</td>\n",
       "      <td>2024-01-02</td>\n",
       "      <td>RIO DE JANEIRO</td>\n",
       "      <td>RJ</td>\n",
       "      <td>Sudeste</td>\n",
       "      <td>BOEING COMPANY</td>\n",
       "      <td>737-8EH</td>\n",
       "    </tr>\n",
       "    <tr>\n",
       "      <th>5183</th>\n",
       "      <td>41571</td>\n",
       "      <td>Incidente</td>\n",
       "      <td>2024-01-02</td>\n",
       "      <td>SANTA LUZIA</td>\n",
       "      <td>MA</td>\n",
       "      <td>Nordeste</td>\n",
       "      <td>ROBINSON HELICOPTER</td>\n",
       "      <td>R44</td>\n",
       "    </tr>\n",
       "    <tr>\n",
       "      <th>5251</th>\n",
       "      <td>41646</td>\n",
       "      <td>Incidente</td>\n",
       "      <td>2024-01-04</td>\n",
       "      <td>SALVADOR</td>\n",
       "      <td>BA</td>\n",
       "      <td>Nordeste</td>\n",
       "      <td>BOEING COMPANY</td>\n",
       "      <td>737-8EH</td>\n",
       "    </tr>\n",
       "    <tr>\n",
       "      <th>12458</th>\n",
       "      <td>41586</td>\n",
       "      <td>Incidente</td>\n",
       "      <td>2024-01-03</td>\n",
       "      <td>SÃO LUÍS</td>\n",
       "      <td>MA</td>\n",
       "      <td>Nordeste</td>\n",
       "      <td>AIRBUS S.A.S.</td>\n",
       "      <td>A320-251N</td>\n",
       "    </tr>\n",
       "    <tr>\n",
       "      <th>12604</th>\n",
       "      <td>41590</td>\n",
       "      <td>Incidente</td>\n",
       "      <td>2024-01-01</td>\n",
       "      <td>CHAPECÓ</td>\n",
       "      <td>SC</td>\n",
       "      <td>Sul</td>\n",
       "      <td>BOEING COMPANY</td>\n",
       "      <td>737-8EH</td>\n",
       "    </tr>\n",
       "  </tbody>\n",
       "</table>\n",
       "</div>"
      ],
      "text/plain": [
       "       Numero_da_Ocorrencia Classificacao_da_Ocorrencia Data_da_Ocorrencia  \\\n",
       "5182                  41518                   Incidente         2024-01-02   \n",
       "5183                  41571                   Incidente         2024-01-02   \n",
       "5251                  41646                   Incidente         2024-01-04   \n",
       "12458                 41586                   Incidente         2024-01-03   \n",
       "12604                 41590                   Incidente         2024-01-01   \n",
       "\n",
       "             Municipio  UF    Regiao   Nome_do_Fabricante     Modelo  \n",
       "5182   RIO DE JANEIRO   RJ   Sudeste       BOEING COMPANY    737-8EH  \n",
       "5183      SANTA LUZIA   MA  Nordeste  ROBINSON HELICOPTER        R44  \n",
       "5251          SALVADOR  BA  Nordeste       BOEING COMPANY    737-8EH  \n",
       "12458        SÃO LUÍS   MA  Nordeste        AIRBUS S.A.S.  A320-251N  \n",
       "12604          CHAPECÓ  SC       Sul       BOEING COMPANY    737-8EH  "
      ]
     },
     "execution_count": 8,
     "metadata": {},
     "output_type": "execute_result"
    }
   ],
   "source": [
    "df = df[df['Data_da_Ocorrencia'].dt.year == ano_atual]\n",
    "df.head(10)"
   ]
  },
  {
   "cell_type": "code",
   "execution_count": null,
   "metadata": {},
   "outputs": [],
   "source": [
    "\n",
    "from sqlalchemy import create_engine ,Integer, String, Date,VARCHAR,text\n",
    "\n",
    "dbname   = 'python'\n",
    "user     = 'postgres'\n",
    "password = 'admin'\n",
    "host     = 'localhost'\n",
    "port     = '5432' \n",
    "\n",
    "conexao_str = f'postgresql://{user}:{password}@{host}:{port}/{dbname}'\n",
    "engine = create_engine(conexao_str)\n",
    "\n",
    "nome_tabela = 'anac_sqlalchemy' \n",
    "\n",
    "# Deletar registros com base no ano atual\n",
    "cursor=engine.connect() \n",
    "delete = text(f'delete from public.anac_sqlalchemy where extract(year from \"Data_da_Ocorrencia\")= {ano_atual}')\n",
    "cursor.execute(delete)\n",
    "cursor.commit()\n",
    "\n",
    "# Enviar DataFrame para o banco de dados\n",
    "df.to_sql(nome_tabela, engine, index=False, if_exists='append',\n",
    "                     dtype={ \n",
    "                           'Numero_da_Ocorrencia' :   Integer ,\n",
    "                           'Classificacao_da_Ocorrencia': VARCHAR(50),\n",
    "                           'Data_da_Ocorrencia':Date  \n",
    "                           })\n",
    "\n",
    "\n",
    "\n",
    "\n",
    "engine.dispose()\n",
    "cursor.close()"
   ]
  }
 ],
 "metadata": {
  "kernelspec": {
   "display_name": "sgbds",
   "language": "python",
   "name": "python3"
  },
  "language_info": {
   "codemirror_mode": {
    "name": "ipython",
    "version": 3
   },
   "file_extension": ".py",
   "mimetype": "text/x-python",
   "name": "python",
   "nbconvert_exporter": "python",
   "pygments_lexer": "ipython3",
   "version": "3.12.7"
  }
 },
 "nbformat": 4,
 "nbformat_minor": 2
}
