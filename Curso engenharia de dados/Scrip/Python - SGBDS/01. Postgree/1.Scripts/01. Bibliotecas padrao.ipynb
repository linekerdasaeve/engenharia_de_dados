{
 "cells": [
  {
   "cell_type": "code",
   "execution_count": null,
   "metadata": {},
   "outputs": [],
   "source": [
    "\"\"\"\n",
    "sgbds\\Scripts\\activate\n",
    "pip install psycopg2  # Conexao com banco de dados postgree\n",
    "pip install openpyxl  # Trabalhar com arquivo Excel\n",
    "pip install pandas    # manipulacao e analise de dados (Df)\n",
    "\n",
    "para upgrade \n",
    "pip install --upgrade pandas\n",
    "\n",
    "\"\"\""
   ]
  },
  {
   "cell_type": "code",
   "execution_count": null,
   "metadata": {},
   "outputs": [],
   "source": [
    "!pip install openpyxl"
   ]
  }
 ],
 "metadata": {
  "kernelspec": {
   "display_name": "sgbds",
   "language": "python",
   "name": "python3"
  },
  "language_info": {
   "name": "python",
   "version": "3.12.7"
  }
 },
 "nbformat": 4,
 "nbformat_minor": 2
}
